{
 "cells": [
  {
   "cell_type": "code",
   "execution_count": 1,
   "metadata": {},
   "outputs": [],
   "source": [
    "import psycopg2 as ps\n",
    "import pandas as pd\n",
    "import numpy as np\n",
    "\n",
    "import requests\n",
    "import json\n",
    "import io\n",
    "\n",
    "from pylab import rcParams\n",
    "rcParams['figure.figsize'] = 8, 5\n",
    "\n",
    "from sklearn.metrics import ndcg_score\n",
    "import random\n",
    "\n",
    "import chgk_api as cha\n",
    "\n",
    "# настройки pandas, с которыми лучше почти всегда\n",
    "pd.set_option('display.max_rows', 45000)\n",
    "pd.set_option('display.max_columns', 50000)\n",
    "pd.set_option('display.max_colwidth', 5000)"
   ]
  },
  {
   "cell_type": "code",
   "execution_count": 2,
   "metadata": {},
   "outputs": [],
   "source": [
    "# настройки\n",
    "\n",
    "# количество вопросов \"виртуальной перестрелки\", кототорое планируем моделировать\n",
    "test_distnce = 8"
   ]
  },
  {
   "cell_type": "code",
   "execution_count": 3,
   "metadata": {},
   "outputs": [],
   "source": [
    "def make_metric(df, pred, target, k=5):\n",
    "    \"\"\"\n",
    "    Функция для точности прогноза. \n",
    "    Сейчас это ndcg_score https://scikit-learn.org/dev/modules/generated/sklearn.metrics.ndcg_score.html\n",
    "    \"\"\"\n",
    "    df = df.sort_values(by=pred)\n",
    "    y_true = np.array([df[target]])\n",
    "    y_pred = np.array([df[pred]])\n",
    "    return ndcg_score(y_true, y_pred, k=k)\n",
    "\n",
    "\n",
    "def get_target(df):\n",
    "    \"\"\"\n",
    "    Функция для расчёта целевой метрики\n",
    "    Сейчас - это ранг суммы взятых с усреднением\n",
    "    \"\"\"\n",
    "    totals_df = df.groupby(['tourn_id', 'team_id']).agg(\n",
    "        target_question = ('qv_result', 'sum'),\n",
    "    ).reset_index()\n",
    "    totals_df['target'] = totals_df.groupby(['tourn_id'])['target_question'].rank(method='average', ascending=False)\n",
    "\n",
    "    return totals_df\n",
    "\n",
    "def get_current_taken_forecast(df, qv_num):\n",
    "    \"\"\"\n",
    "    Функция для расчёта прогноза \"по взятым\".\n",
    "    В конце турнира команда займёт такое место, какое занимает на этап после qv_num вопроса\n",
    "    \"\"\"\n",
    "    gr_df = df[df['question_num'] <= qv_num].groupby(['tourn_id', 'team_id']).agg(\n",
    "        current_res = ('qv_result', 'sum'),\n",
    "    ).reset_index()\n",
    "\n",
    "    totals_df = get_target(df)\n",
    "\n",
    "    gr_df = gr_df.merge(totals_df, 'left', on=['tourn_id', 'team_id'])\n",
    "    gr_df['current_place'] = gr_df.groupby(['tourn_id'])['current_res'].rank(method='average', ascending=False)\n",
    "    gr_df = gr_df.sort_values(by='target_question', ascending=False)\n",
    "\n",
    "    return gr_df\n",
    "\n",
    "def get_current_qv_rating_forecast(df, qv_num):\n",
    "    \"\"\"\n",
    "    Функция для расчёта прогноза \"по рейтингу взятых вопросов\".\n",
    "    В конце турнира команда займёт такое место, какое занимает на этап после qv_num по рейтингу взятых\n",
    "    \"\"\"\n",
    "    # статистика по вопросам\n",
    "    qv_stat_df = df.groupby(['tourn_id', 'question_num']).agg(\n",
    "        taked = ('qv_result', 'sum'),\n",
    "        total = ('qv_result', 'count'),\n",
    "    ).reset_index()\n",
    "    # рейтинг вопроса - количество команд, которые его не взяли\n",
    "    qv_stat_df['qv_rating'] = qv_stat_df['total'] - qv_stat_df['taked']\n",
    "\n",
    "    qv_df = df.merge(qv_stat_df, 'left', on=['tourn_id', 'question_num'])\n",
    "    # вопросный рейтинг команды - суммарный рейтинг вопросов, которые она взяла  \n",
    "    qv_df['rating'] = qv_df['qv_rating'] * qv_df['qv_result'] \n",
    "\n",
    "    gr_df = qv_df[qv_df['question_num'] <= qv_num].groupby(['tourn_id', 'team_id']).agg(\n",
    "        current_rating = ('rating', 'sum'),\n",
    "    ).reset_index()\n",
    "    gr_df['rating_place'] = gr_df.groupby(['tourn_id'])['current_rating'].rank(method='average', ascending=False)\n",
    "\n",
    "    totals_df = get_target(df)\n",
    "\n",
    "    gr_df = gr_df.merge(totals_df, 'left', on=['tourn_id', 'team_id'])\n",
    "\n",
    "    return gr_df"
   ]
  },
  {
   "cell_type": "code",
   "execution_count": 7,
   "metadata": {},
   "outputs": [
    {
     "name": "stdout",
     "output_type": "stream",
     "text": [
      "200\n"
     ]
    }
   ],
   "source": [
    "# смотрим на примере одного турнира\n",
    "# гостинный двор-2024, калуга\n",
    "# tourn_id = 10707\n",
    "# Островок Бесконечности: октябрь\n",
    "tourn_id = 10396\n",
    "tourn_df, question_df, players_df = cha.get_tourn_result(tourn_id)\n",
    "qv_stat = cha.tourn_stat(question_df)"
   ]
  },
  {
   "cell_type": "code",
   "execution_count": 8,
   "metadata": {},
   "outputs": [],
   "source": [
    "# собираем нужный датасет\n",
    "work_df = qv_stat.merge(tourn_df[['tourn_id', 'team_id', 'predictedPosition', 'position']], 'left', on=['tourn_id', 'team_id'])\n",
    "work_df['qv_result'] = work_df['qv_result'].astype('int')"
   ]
  },
  {
   "cell_type": "code",
   "execution_count": 9,
   "metadata": {},
   "outputs": [
    {
     "data": {
      "text/html": [
       "<div>\n",
       "<style scoped>\n",
       "    .dataframe tbody tr th:only-of-type {\n",
       "        vertical-align: middle;\n",
       "    }\n",
       "\n",
       "    .dataframe tbody tr th {\n",
       "        vertical-align: top;\n",
       "    }\n",
       "\n",
       "    .dataframe thead th {\n",
       "        text-align: right;\n",
       "    }\n",
       "</style>\n",
       "<table border=\"1\" class=\"dataframe\">\n",
       "  <thead>\n",
       "    <tr style=\"text-align: right;\">\n",
       "      <th></th>\n",
       "      <th>tourn_id</th>\n",
       "      <th>team_id</th>\n",
       "      <th>numqv</th>\n",
       "      <th>question_num</th>\n",
       "      <th>qv_result</th>\n",
       "      <th>predictedPosition</th>\n",
       "      <th>position</th>\n",
       "    </tr>\n",
       "  </thead>\n",
       "  <tbody>\n",
       "    <tr>\n",
       "      <th>5800</th>\n",
       "      <td>10396</td>\n",
       "      <td>65259</td>\n",
       "      <td>36</td>\n",
       "      <td>21</td>\n",
       "      <td>1</td>\n",
       "      <td>237</td>\n",
       "      <td>245.0</td>\n",
       "    </tr>\n",
       "    <tr>\n",
       "      <th>1355</th>\n",
       "      <td>10396</td>\n",
       "      <td>91121</td>\n",
       "      <td>36</td>\n",
       "      <td>5</td>\n",
       "      <td>0</td>\n",
       "      <td>233</td>\n",
       "      <td>245.0</td>\n",
       "    </tr>\n",
       "    <tr>\n",
       "      <th>17</th>\n",
       "      <td>10396</td>\n",
       "      <td>38722</td>\n",
       "      <td>36</td>\n",
       "      <td>1</td>\n",
       "      <td>0</td>\n",
       "      <td>32</td>\n",
       "      <td>21.0</td>\n",
       "    </tr>\n",
       "  </tbody>\n",
       "</table>\n",
       "</div>"
      ],
      "text/plain": [
       "      tourn_id  team_id  numqv question_num  qv_result  predictedPosition  \\\n",
       "5800     10396    65259     36           21          1                237   \n",
       "1355     10396    91121     36            5          0                233   \n",
       "17       10396    38722     36            1          0                 32   \n",
       "\n",
       "      position  \n",
       "5800     245.0  \n",
       "1355     245.0  \n",
       "17        21.0  "
      ]
     },
     "execution_count": 9,
     "metadata": {},
     "output_type": "execute_result"
    }
   ],
   "source": [
    "work_df.sample(3)"
   ]
  },
  {
   "cell_type": "code",
   "execution_count": 10,
   "metadata": {},
   "outputs": [
    {
     "data": {
      "text/html": [
       "<div>\n",
       "<style scoped>\n",
       "    .dataframe tbody tr th:only-of-type {\n",
       "        vertical-align: middle;\n",
       "    }\n",
       "\n",
       "    .dataframe tbody tr th {\n",
       "        vertical-align: top;\n",
       "    }\n",
       "\n",
       "    .dataframe thead th {\n",
       "        text-align: right;\n",
       "    }\n",
       "</style>\n",
       "<table border=\"1\" class=\"dataframe\">\n",
       "  <thead>\n",
       "    <tr style=\"text-align: right;\">\n",
       "      <th></th>\n",
       "      <th>tourn_id</th>\n",
       "      <th>team_id</th>\n",
       "      <th>current_res</th>\n",
       "      <th>target_question</th>\n",
       "      <th>target</th>\n",
       "      <th>current_place</th>\n",
       "    </tr>\n",
       "  </thead>\n",
       "  <tbody>\n",
       "    <tr>\n",
       "      <th>77</th>\n",
       "      <td>10396</td>\n",
       "      <td>57024</td>\n",
       "      <td>10</td>\n",
       "      <td>34</td>\n",
       "      <td>1.5</td>\n",
       "      <td>20.5</td>\n",
       "    </tr>\n",
       "    <tr>\n",
       "      <th>64</th>\n",
       "      <td>10396</td>\n",
       "      <td>53714</td>\n",
       "      <td>12</td>\n",
       "      <td>34</td>\n",
       "      <td>1.5</td>\n",
       "      <td>1.5</td>\n",
       "    </tr>\n",
       "    <tr>\n",
       "      <th>102</th>\n",
       "      <td>10396</td>\n",
       "      <td>67543</td>\n",
       "      <td>11</td>\n",
       "      <td>33</td>\n",
       "      <td>3.5</td>\n",
       "      <td>5.5</td>\n",
       "    </tr>\n",
       "    <tr>\n",
       "      <th>245</th>\n",
       "      <td>10396</td>\n",
       "      <td>98988</td>\n",
       "      <td>10</td>\n",
       "      <td>33</td>\n",
       "      <td>3.5</td>\n",
       "      <td>20.5</td>\n",
       "    </tr>\n",
       "  </tbody>\n",
       "</table>\n",
       "</div>"
      ],
      "text/plain": [
       "     tourn_id  team_id  current_res  target_question  target  current_place\n",
       "77      10396    57024           10               34     1.5           20.5\n",
       "64      10396    53714           12               34     1.5            1.5\n",
       "102     10396    67543           11               33     3.5            5.5\n",
       "245     10396    98988           10               33     3.5           20.5"
      ]
     },
     "execution_count": 10,
     "metadata": {},
     "output_type": "execute_result"
    }
   ],
   "source": [
    "# проверяем работу функций\n",
    "get_current_taken_forecast(work_df, 12)[0:4]"
   ]
  },
  {
   "cell_type": "code",
   "execution_count": 11,
   "metadata": {},
   "outputs": [
    {
     "data": {
      "text/html": [
       "<div>\n",
       "<style scoped>\n",
       "    .dataframe tbody tr th:only-of-type {\n",
       "        vertical-align: middle;\n",
       "    }\n",
       "\n",
       "    .dataframe tbody tr th {\n",
       "        vertical-align: top;\n",
       "    }\n",
       "\n",
       "    .dataframe thead th {\n",
       "        text-align: right;\n",
       "    }\n",
       "</style>\n",
       "<table border=\"1\" class=\"dataframe\">\n",
       "  <thead>\n",
       "    <tr style=\"text-align: right;\">\n",
       "      <th></th>\n",
       "      <th>tourn_id</th>\n",
       "      <th>team_id</th>\n",
       "      <th>current_rating</th>\n",
       "      <th>rating_place</th>\n",
       "      <th>target_question</th>\n",
       "      <th>target</th>\n",
       "    </tr>\n",
       "  </thead>\n",
       "  <tbody>\n",
       "    <tr>\n",
       "      <th>0</th>\n",
       "      <td>10396</td>\n",
       "      <td>10</td>\n",
       "      <td>1272</td>\n",
       "      <td>20.0</td>\n",
       "      <td>29</td>\n",
       "      <td>33.5</td>\n",
       "    </tr>\n",
       "    <tr>\n",
       "      <th>1</th>\n",
       "      <td>10396</td>\n",
       "      <td>84</td>\n",
       "      <td>608</td>\n",
       "      <td>153.0</td>\n",
       "      <td>22</td>\n",
       "      <td>143.5</td>\n",
       "    </tr>\n",
       "    <tr>\n",
       "      <th>2</th>\n",
       "      <td>10396</td>\n",
       "      <td>299</td>\n",
       "      <td>1009</td>\n",
       "      <td>56.0</td>\n",
       "      <td>25</td>\n",
       "      <td>100.0</td>\n",
       "    </tr>\n",
       "    <tr>\n",
       "      <th>3</th>\n",
       "      <td>10396</td>\n",
       "      <td>304</td>\n",
       "      <td>898</td>\n",
       "      <td>82.0</td>\n",
       "      <td>24</td>\n",
       "      <td>114.5</td>\n",
       "    </tr>\n",
       "  </tbody>\n",
       "</table>\n",
       "</div>"
      ],
      "text/plain": [
       "   tourn_id  team_id  current_rating  rating_place  target_question  target\n",
       "0     10396       10            1272          20.0               29    33.5\n",
       "1     10396       84             608         153.0               22   143.5\n",
       "2     10396      299            1009          56.0               25   100.0\n",
       "3     10396      304             898          82.0               24   114.5"
      ]
     },
     "execution_count": 11,
     "metadata": {},
     "output_type": "execute_result"
    }
   ],
   "source": [
    "get_current_qv_rating_forecast(work_df, 12)[0:4]"
   ]
  },
  {
   "cell_type": "code",
   "execution_count": 12,
   "metadata": {},
   "outputs": [
    {
     "data": {
      "text/plain": [
       "0.8356660391918029"
      ]
     },
     "execution_count": 12,
     "metadata": {},
     "output_type": "execute_result"
    }
   ],
   "source": [
    "n = 100\n",
    "metric_test_df = pd.DataFrame(range(1, n+1))\n",
    "metric_test_df.columns = ['target']\n",
    "places = list(range(1, len(metric_test_df)+1))\n",
    "random.shuffle(places)\n",
    "metric_test_df['random'] = places\n",
    "\n",
    "metric_test_df = metric_test_df.sort_values(by='random')\n",
    "make_metric(metric_test_df, 'target', 'random', k=n)"
   ]
  },
  {
   "cell_type": "code",
   "execution_count": 13,
   "metadata": {},
   "outputs": [
    {
     "data": {
      "text/plain": [
       "<Axes: xlabel='num_of_qv'>"
      ]
     },
     "execution_count": 13,
     "metadata": {},
     "output_type": "execute_result"
    },
    {
     "data": {
      "image/png": "[encoded data removed]",
      "text/plain": [
       "<Figure size 800x500 with 1 Axes>"
      ]
     },
     "metadata": {},
     "output_type": "display_data"
    }
   ],
   "source": [
    "# а теперь проход по всем вопроса турнира\n",
    "res_lst = []\n",
    "qv_rating_lst = []\n",
    "\n",
    "num_of_questions = work_df['numqv'].values[0]\n",
    "num_of_teams = work_df['team_id'].nunique()\n",
    "for i in range(1, num_of_questions+1):\n",
    "    qv_forecast_df = get_current_taken_forecast(work_df, i)\n",
    "    rating_forecast_df = get_current_qv_rating_forecast(work_df, i)\n",
    "    res_lst.append(make_metric(qv_forecast_df, 'current_place', 'target', k=num_of_teams))\n",
    "    qv_rating_lst.append(make_metric(rating_forecast_df, 'rating_place', 'target', k=num_of_teams))\n",
    "\n",
    "res_df = pd.DataFrame(res_lst)\n",
    "res_df.columns = ['qv_place']\n",
    "res_df['qv_rating_place'] = qv_rating_lst\n",
    "res_df['num_of_qv'] = range(1, len(res_df)+1)\n",
    "\n",
    "# добавляем бенчмарки\n",
    "# рейтинг команд\n",
    "res_df['from_teams_rating'] = make_metric(tourn_df, 'predictedPosition', 'position', k=num_of_teams)\n",
    "\n",
    "# его величество рандом\n",
    "places = list(range(1, len(tourn_df)+1))\n",
    "random.shuffle(places)\n",
    "tourn_df['random'] = places\n",
    "res_df['random_line'] = make_metric(tourn_df, 'random', 'position', k=len(res_df))\n",
    "\n",
    "res_df.set_index('num_of_qv').plot()"
   ]
  },
  {
   "cell_type": "code",
   "execution_count": 14,
   "metadata": {},
   "outputs": [
    {
     "data": {
      "text/html": [
       "<div>\n",
       "<style scoped>\n",
       "    .dataframe tbody tr th:only-of-type {\n",
       "        vertical-align: middle;\n",
       "    }\n",
       "\n",
       "    .dataframe tbody tr th {\n",
       "        vertical-align: top;\n",
       "    }\n",
       "\n",
       "    .dataframe thead th {\n",
       "        text-align: right;\n",
       "    }\n",
       "</style>\n",
       "<table border=\"1\" class=\"dataframe\">\n",
       "  <thead>\n",
       "    <tr style=\"text-align: right;\">\n",
       "      <th></th>\n",
       "      <th>qv_place</th>\n",
       "      <th>qv_rating_place</th>\n",
       "      <th>num_of_qv</th>\n",
       "      <th>from_teams_rating</th>\n",
       "      <th>random_line</th>\n",
       "    </tr>\n",
       "  </thead>\n",
       "  <tbody>\n",
       "    <tr>\n",
       "      <th>27</th>\n",
       "      <td>0.998506</td>\n",
       "      <td>0.996117</td>\n",
       "      <td>28</td>\n",
       "      <td>0.981465</td>\n",
       "      <td>0.441204</td>\n",
       "    </tr>\n",
       "  </tbody>\n",
       "</table>\n",
       "</div>"
      ],
      "text/plain": [
       "    qv_place  qv_rating_place  num_of_qv  from_teams_rating  random_line\n",
       "27  0.998506         0.996117         28           0.981465     0.441204"
      ]
     },
     "execution_count": 14,
     "metadata": {},
     "output_type": "execute_result"
    }
   ],
   "source": [
    "# в качестве прогноза берём ситуацию перед начало \"виртуальной перестрелки\"\n",
    "res_df[res_df['num_of_qv'] == work_df['numqv'].values[0] - test_distnce]"
   ]
  },
  {
   "cell_type": "code",
   "execution_count": null,
   "metadata": {},
   "outputs": [],
   "source": []
  },
  {
   "cell_type": "code",
   "execution_count": null,
   "metadata": {},
   "outputs": [],
   "source": []
  },
  {
   "cell_type": "code",
   "execution_count": null,
   "metadata": {},
   "outputs": [],
   "source": []
  },
  {
   "cell_type": "code",
   "execution_count": null,
   "metadata": {},
   "outputs": [],
   "source": []
  }
 ],
 "metadata": {
  "kernelspec": {
   "display_name": "Python 3",
   "language": "python",
   "name": "python3"
  },
  "language_info": {
   "codemirror_mode": {
    "name": "ipython",
    "version": 3
   },
   "file_extension": ".py",
   "mimetype": "text/x-python",
   "name": "python",
   "nbconvert_exporter": "python",
   "pygments_lexer": "ipython3",
   "version": "3.10.12"
  }
 },
 "nbformat": 4,
 "nbformat_minor": 2
}
