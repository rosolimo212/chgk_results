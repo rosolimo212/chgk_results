{
 "cells": [
  {
   "cell_type": "code",
   "execution_count": 1,
   "metadata": {},
   "outputs": [],
   "source": [
    "import psycopg2 as ps\n",
    "import pandas as pd\n",
    "import numpy as np\n",
    "\n",
    "import requests\n",
    "import json\n",
    "import io\n",
    "\n",
    "from pylab import rcParams\n",
    "rcParams['figure.figsize'] = 8, 5\n",
    "\n",
    "from sklearn.metrics import ndcg_score\n",
    "import random\n",
    "\n",
    "import chgk_api as cha\n",
    "\n",
    "# настройки pandas, с которыми лучше почти всегда\n",
    "pd.set_option('display.max_rows', 45000)\n",
    "pd.set_option('display.max_columns', 50000)\n",
    "pd.set_option('display.max_colwidth', 5000)"
   ]
  },
  {
   "cell_type": "code",
   "execution_count": 2,
   "metadata": {},
   "outputs": [],
   "source": [
    "# настройки\n",
    "\n",
    "# количество вопросов \"виртуальной перестрелки\", кототорое планируем моделировать\n",
    "test_distnce = 8"
   ]
  },
  {
   "cell_type": "code",
   "execution_count": 3,
   "metadata": {},
   "outputs": [],
   "source": [
    "def make_metric(df, pred, target, k=5):\n",
    "    \"\"\"\n",
    "    Функция для точности прогноза. \n",
    "    Сейчас это ndcg_score https://scikit-learn.org/dev/modules/generated/sklearn.metrics.ndcg_score.html\n",
    "    \"\"\"\n",
    "    df = df.sort_values(by=pred)\n",
    "    y_true = np.array([df[target]])\n",
    "    y_pred = np.array([df[pred]])\n",
    "    return ndcg_score(y_true, y_pred, k=k)\n",
    "\n",
    "\n",
    "def get_target(df):\n",
    "    \"\"\"\n",
    "    Функция для расчёта целевой метрики\n",
    "    Сейчас - это ранг суммы взятых с усреднением\n",
    "    \"\"\"\n",
    "    totals_df = df.groupby(['tourn_id', 'team_id']).agg(\n",
    "        target_question = ('qv_result', 'sum'),\n",
    "    ).reset_index()\n",
    "    totals_df['target'] = totals_df.groupby(['tourn_id'])['target_question'].rank(method='average', ascending=False)\n",
    "\n",
    "    return totals_df\n",
    "\n",
    "def get_current_taken_forecast(df, qv_num):\n",
    "    \"\"\"\n",
    "    Функция для расчёта прогноза \"по взятым\".\n",
    "    В конце турнира команда займёт такое место, какое занимает на этап после qv_num вопроса\n",
    "    \"\"\"\n",
    "    gr_df = df[df['question_num'] <= qv_num].groupby(['tourn_id', 'team_id']).agg(\n",
    "        current_res = ('qv_result', 'sum'),\n",
    "    ).reset_index()\n",
    "\n",
    "    totals_df = get_target(df)\n",
    "\n",
    "    gr_df = gr_df.merge(totals_df, 'left', on=['tourn_id', 'team_id'])\n",
    "    gr_df['current_place'] = gr_df.groupby(['tourn_id'])['current_res'].rank(method='average', ascending=False)\n",
    "    gr_df = gr_df.sort_values(by='target_question', ascending=False)\n",
    "\n",
    "    return gr_df\n",
    "\n",
    "def get_current_qv_rating_forecast(df, qv_num):\n",
    "    \"\"\"\n",
    "    Функция для расчёта прогноза \"по рейтингу взятых вопросов\".\n",
    "    В конце турнира команда займёт такое место, какое занимает на этап после qv_num по рейтингу взятых\n",
    "    \"\"\"\n",
    "    # статистика по вопросам\n",
    "    qv_stat_df = df.groupby(['tourn_id', 'question_num']).agg(\n",
    "        taked = ('qv_result', 'sum'),\n",
    "        total = ('qv_result', 'count'),\n",
    "    ).reset_index()\n",
    "    # рейтинг вопроса - количество команд, которые его не взяли\n",
    "    qv_stat_df['qv_rating'] = qv_stat_df['total'] - qv_stat_df['taked']\n",
    "\n",
    "    qv_df = df.merge(qv_stat_df, 'left', on=['tourn_id', 'question_num'])\n",
    "    # вопросный рейтинг команды - суммарный рейтинг вопросов, которые она взяла  \n",
    "    qv_df['rating'] = qv_df['qv_rating'] * qv_df['qv_result'] \n",
    "\n",
    "    gr_df = qv_df[qv_df['question_num'] <= qv_num].groupby(['tourn_id', 'team_id']).agg(\n",
    "        current_rating = ('rating', 'sum'),\n",
    "    ).reset_index()\n",
    "    gr_df['rating_place'] = gr_df.groupby(['tourn_id'])['current_rating'].rank(method='average', ascending=False)\n",
    "\n",
    "    totals_df = get_target(df)\n",
    "\n",
    "    gr_df = gr_df.merge(totals_df, 'left', on=['tourn_id', 'team_id'])\n",
    "\n",
    "    return gr_df"
   ]
  },
  {
   "cell_type": "code",
   "execution_count": 4,
   "metadata": {},
   "outputs": [
    {
     "name": "stdout",
     "output_type": "stream",
     "text": [
      "200\n"
     ]
    }
   ],
   "source": [
    "# смотрим на примере одного турнира\n",
    "tourn_df, question_df, players_df = cha.get_tourn_result(10707)\n",
    "qv_stat = cha.tourn_stat(question_df)"
   ]
  },
  {
   "cell_type": "code",
   "execution_count": 5,
   "metadata": {},
   "outputs": [],
   "source": [
    "# собираем нужный датасет\n",
    "work_df = qv_stat.merge(tourn_df[['tourn_id', 'team_id', 'predictedPosition', 'position']], 'left', on=['tourn_id', 'team_id'])\n",
    "work_df['qv_result'] = work_df['qv_result'].astype('int')"
   ]
  },
  {
   "cell_type": "code",
   "execution_count": 6,
   "metadata": {},
   "outputs": [
    {
     "data": {
      "text/html": [
       "<div>\n",
       "<style scoped>\n",
       "    .dataframe tbody tr th:only-of-type {\n",
       "        vertical-align: middle;\n",
       "    }\n",
       "\n",
       "    .dataframe tbody tr th {\n",
       "        vertical-align: top;\n",
       "    }\n",
       "\n",
       "    .dataframe thead th {\n",
       "        text-align: right;\n",
       "    }\n",
       "</style>\n",
       "<table border=\"1\" class=\"dataframe\">\n",
       "  <thead>\n",
       "    <tr style=\"text-align: right;\">\n",
       "      <th></th>\n",
       "      <th>tourn_id</th>\n",
       "      <th>team_id</th>\n",
       "      <th>numqv</th>\n",
       "      <th>question_num</th>\n",
       "      <th>qv_result</th>\n",
       "      <th>predictedPosition</th>\n",
       "      <th>position</th>\n",
       "    </tr>\n",
       "  </thead>\n",
       "  <tbody>\n",
       "    <tr>\n",
       "      <th>3005</th>\n",
       "      <td>10707</td>\n",
       "      <td>336</td>\n",
       "      <td>90</td>\n",
       "      <td>43</td>\n",
       "      <td>0</td>\n",
       "      <td>39</td>\n",
       "      <td>25.5</td>\n",
       "    </tr>\n",
       "    <tr>\n",
       "      <th>5853</th>\n",
       "      <td>10707</td>\n",
       "      <td>54517</td>\n",
       "      <td>90</td>\n",
       "      <td>83</td>\n",
       "      <td>0</td>\n",
       "      <td>51</td>\n",
       "      <td>31.5</td>\n",
       "    </tr>\n",
       "    <tr>\n",
       "      <th>3132</th>\n",
       "      <td>10707</td>\n",
       "      <td>50319</td>\n",
       "      <td>90</td>\n",
       "      <td>45</td>\n",
       "      <td>1</td>\n",
       "      <td>26</td>\n",
       "      <td>9.0</td>\n",
       "    </tr>\n",
       "  </tbody>\n",
       "</table>\n",
       "</div>"
      ],
      "text/plain": [
       "      tourn_id  team_id  numqv question_num  qv_result  predictedPosition  \\\n",
       "3005     10707      336     90           43          0                 39   \n",
       "5853     10707    54517     90           83          0                 51   \n",
       "3132     10707    50319     90           45          1                 26   \n",
       "\n",
       "      position  \n",
       "3005      25.5  \n",
       "5853      31.5  \n",
       "3132       9.0  "
      ]
     },
     "execution_count": 6,
     "metadata": {},
     "output_type": "execute_result"
    }
   ],
   "source": [
    "work_df.sample(3)"
   ]
  },
  {
   "cell_type": "code",
   "execution_count": 7,
   "metadata": {},
   "outputs": [
    {
     "data": {
      "text/html": [
       "<div>\n",
       "<style scoped>\n",
       "    .dataframe tbody tr th:only-of-type {\n",
       "        vertical-align: middle;\n",
       "    }\n",
       "\n",
       "    .dataframe tbody tr th {\n",
       "        vertical-align: top;\n",
       "    }\n",
       "\n",
       "    .dataframe thead th {\n",
       "        text-align: right;\n",
       "    }\n",
       "</style>\n",
       "<table border=\"1\" class=\"dataframe\">\n",
       "  <thead>\n",
       "    <tr style=\"text-align: right;\">\n",
       "      <th></th>\n",
       "      <th>tourn_id</th>\n",
       "      <th>team_id</th>\n",
       "      <th>current_res</th>\n",
       "      <th>target_question</th>\n",
       "      <th>target</th>\n",
       "      <th>current_place</th>\n",
       "    </tr>\n",
       "  </thead>\n",
       "  <tbody>\n",
       "    <tr>\n",
       "      <th>39</th>\n",
       "      <td>10707</td>\n",
       "      <td>49804</td>\n",
       "      <td>10</td>\n",
       "      <td>75</td>\n",
       "      <td>1.0</td>\n",
       "      <td>1.0</td>\n",
       "    </tr>\n",
       "    <tr>\n",
       "      <th>62</th>\n",
       "      <td>10707</td>\n",
       "      <td>86405</td>\n",
       "      <td>6</td>\n",
       "      <td>61</td>\n",
       "      <td>2.5</td>\n",
       "      <td>26.5</td>\n",
       "    </tr>\n",
       "    <tr>\n",
       "      <th>11</th>\n",
       "      <td>10707</td>\n",
       "      <td>4109</td>\n",
       "      <td>8</td>\n",
       "      <td>61</td>\n",
       "      <td>2.5</td>\n",
       "      <td>5.0</td>\n",
       "    </tr>\n",
       "    <tr>\n",
       "      <th>54</th>\n",
       "      <td>10707</td>\n",
       "      <td>71595</td>\n",
       "      <td>8</td>\n",
       "      <td>60</td>\n",
       "      <td>4.5</td>\n",
       "      <td>5.0</td>\n",
       "    </tr>\n",
       "  </tbody>\n",
       "</table>\n",
       "</div>"
      ],
      "text/plain": [
       "    tourn_id  team_id  current_res  target_question  target  current_place\n",
       "39     10707    49804           10               75     1.0            1.0\n",
       "62     10707    86405            6               61     2.5           26.5\n",
       "11     10707     4109            8               61     2.5            5.0\n",
       "54     10707    71595            8               60     4.5            5.0"
      ]
     },
     "execution_count": 7,
     "metadata": {},
     "output_type": "execute_result"
    }
   ],
   "source": [
    "# проверяем работу функций\n",
    "get_current_taken_forecast(work_df, 12)[0:4]"
   ]
  },
  {
   "cell_type": "code",
   "execution_count": 8,
   "metadata": {},
   "outputs": [
    {
     "data": {
      "text/html": [
       "<div>\n",
       "<style scoped>\n",
       "    .dataframe tbody tr th:only-of-type {\n",
       "        vertical-align: middle;\n",
       "    }\n",
       "\n",
       "    .dataframe tbody tr th {\n",
       "        vertical-align: top;\n",
       "    }\n",
       "\n",
       "    .dataframe thead th {\n",
       "        text-align: right;\n",
       "    }\n",
       "</style>\n",
       "<table border=\"1\" class=\"dataframe\">\n",
       "  <thead>\n",
       "    <tr style=\"text-align: right;\">\n",
       "      <th></th>\n",
       "      <th>tourn_id</th>\n",
       "      <th>team_id</th>\n",
       "      <th>current_rating</th>\n",
       "      <th>rating_place</th>\n",
       "      <th>target_question</th>\n",
       "      <th>target</th>\n",
       "    </tr>\n",
       "  </thead>\n",
       "  <tbody>\n",
       "    <tr>\n",
       "      <th>0</th>\n",
       "      <td>10707</td>\n",
       "      <td>222</td>\n",
       "      <td>26</td>\n",
       "      <td>69.0</td>\n",
       "      <td>34</td>\n",
       "      <td>56.0</td>\n",
       "    </tr>\n",
       "    <tr>\n",
       "      <th>1</th>\n",
       "      <td>10707</td>\n",
       "      <td>294</td>\n",
       "      <td>121</td>\n",
       "      <td>45.0</td>\n",
       "      <td>28</td>\n",
       "      <td>65.5</td>\n",
       "    </tr>\n",
       "    <tr>\n",
       "      <th>2</th>\n",
       "      <td>10707</td>\n",
       "      <td>312</td>\n",
       "      <td>114</td>\n",
       "      <td>47.0</td>\n",
       "      <td>39</td>\n",
       "      <td>44.0</td>\n",
       "    </tr>\n",
       "    <tr>\n",
       "      <th>3</th>\n",
       "      <td>10707</td>\n",
       "      <td>336</td>\n",
       "      <td>111</td>\n",
       "      <td>48.0</td>\n",
       "      <td>45</td>\n",
       "      <td>25.5</td>\n",
       "    </tr>\n",
       "  </tbody>\n",
       "</table>\n",
       "</div>"
      ],
      "text/plain": [
       "   tourn_id  team_id  current_rating  rating_place  target_question  target\n",
       "0     10707      222              26          69.0               34    56.0\n",
       "1     10707      294             121          45.0               28    65.5\n",
       "2     10707      312             114          47.0               39    44.0\n",
       "3     10707      336             111          48.0               45    25.5"
      ]
     },
     "execution_count": 8,
     "metadata": {},
     "output_type": "execute_result"
    }
   ],
   "source": [
    "get_current_qv_rating_forecast(work_df, 12)[0:4]"
   ]
  },
  {
   "cell_type": "code",
   "execution_count": 9,
   "metadata": {},
   "outputs": [
    {
     "data": {
      "text/plain": [
       "0.8195864982217097"
      ]
     },
     "execution_count": 9,
     "metadata": {},
     "output_type": "execute_result"
    }
   ],
   "source": [
    "n = 100\n",
    "metric_test_df = pd.DataFrame(range(1, n+1))\n",
    "metric_test_df.columns = ['target']\n",
    "places = list(range(1, len(metric_test_df)+1))\n",
    "random.shuffle(places)\n",
    "metric_test_df['random'] = places\n",
    "\n",
    "metric_test_df = metric_test_df.sort_values(by='random')\n",
    "make_metric(metric_test_df, 'target', 'random', k=n)"
   ]
  },
  {
   "cell_type": "code",
   "execution_count": 31,
   "metadata": {},
   "outputs": [
    {
     "data": {
      "text/plain": [
       "<Axes: xlabel='num_of_qv'>"
      ]
     },
     "execution_count": 31,
     "metadata": {},
     "output_type": "execute_result"
    },
    {
     "data": {
      "image/png": "[encoded data removed]",
      "text/plain": [
       "<Figure size 800x500 with 1 Axes>"
      ]
     },
     "metadata": {},
     "output_type": "display_data"
    }
   ],
   "source": [
    "# а теперь проход по всем вопроса турнира\n",
    "res_lst = []\n",
    "qv_rating_lst = []\n",
    "for i in range(1, work_df['numqv'].values[0]+1):\n",
    "    qv_forecast_df = get_current_taken_forecast(work_df, i)\n",
    "    rating_forecast_df = get_current_qv_rating_forecast(work_df, i)\n",
    "    res_lst.append(make_metric(qv_forecast_df, 'current_place', 'target'))\n",
    "    qv_rating_lst.append(make_metric(rating_forecast_df, 'rating_place', 'target'))\n",
    "\n",
    "res_df = pd.DataFrame(res_lst)\n",
    "res_df.columns = ['qv_place']\n",
    "res_df['qv_rating_place'] = qv_rating_lst\n",
    "res_df['num_of_qv'] = range(1, len(res_df)+1)\n",
    "\n",
    "# добавляем бенчмарки\n",
    "# рейтинг команд\n",
    "res_df['from_teams_rating'] = make_metric(tourn_df, 'predictedPosition', 'position')\n",
    "\n",
    "# его величество рандом\n",
    "places = list(range(1, len(tourn_df)+1))\n",
    "random.shuffle(places)\n",
    "tourn_df['random'] = places\n",
    "res_df['random_line'] = make_metric(tourn_df, 'random', 'position')\n",
    "\n",
    "res_df.set_index('num_of_qv').plot()"
   ]
  },
  {
   "cell_type": "code",
   "execution_count": 33,
   "metadata": {},
   "outputs": [
    {
     "data": {
      "text/html": [
       "<div>\n",
       "<style scoped>\n",
       "    .dataframe tbody tr th:only-of-type {\n",
       "        vertical-align: middle;\n",
       "    }\n",
       "\n",
       "    .dataframe tbody tr th {\n",
       "        vertical-align: top;\n",
       "    }\n",
       "\n",
       "    .dataframe thead th {\n",
       "        text-align: right;\n",
       "    }\n",
       "</style>\n",
       "<table border=\"1\" class=\"dataframe\">\n",
       "  <thead>\n",
       "    <tr style=\"text-align: right;\">\n",
       "      <th></th>\n",
       "      <th>qv_place</th>\n",
       "      <th>qv_rating_place</th>\n",
       "      <th>num_of_qv</th>\n",
       "      <th>from_teams_rating</th>\n",
       "      <th>random_line</th>\n",
       "    </tr>\n",
       "  </thead>\n",
       "  <tbody>\n",
       "    <tr>\n",
       "      <th>81</th>\n",
       "      <td>0.999013</td>\n",
       "      <td>0.97352</td>\n",
       "      <td>82</td>\n",
       "      <td>0.983832</td>\n",
       "      <td>0.499226</td>\n",
       "    </tr>\n",
       "  </tbody>\n",
       "</table>\n",
       "</div>"
      ],
      "text/plain": [
       "    qv_place  qv_rating_place  num_of_qv  from_teams_rating  random_line\n",
       "81  0.999013          0.97352         82           0.983832     0.499226"
      ]
     },
     "execution_count": 33,
     "metadata": {},
     "output_type": "execute_result"
    }
   ],
   "source": [
    "# в качестве прогноза берём ситуацию перед начало \"виртуальной перестрелки\"\n",
    "res_df[res_df['num_of_qv'] == work_df['numqv'].values[0] - test_distnce]"
   ]
  },
  {
   "cell_type": "code",
   "execution_count": null,
   "metadata": {},
   "outputs": [],
   "source": []
  },
  {
   "cell_type": "code",
   "execution_count": null,
   "metadata": {},
   "outputs": [],
   "source": []
  },
  {
   "cell_type": "code",
   "execution_count": null,
   "metadata": {},
   "outputs": [],
   "source": []
  }
 ],
 "metadata": {
  "kernelspec": {
   "display_name": "Python 3",
   "language": "python",
   "name": "python3"
  },
  "language_info": {
   "codemirror_mode": {
    "name": "ipython",
    "version": 3
   },
   "file_extension": ".py",
   "mimetype": "text/x-python",
   "name": "python",
   "nbconvert_exporter": "python",
   "pygments_lexer": "ipython3",
   "version": "3.10.12"
  }
 },
 "nbformat": 4,
 "nbformat_minor": 2
}
